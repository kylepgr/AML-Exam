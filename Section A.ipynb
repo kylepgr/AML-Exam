{
 "cells": [
  {
   "cell_type": "markdown",
   "metadata": {},
   "source": [
    "# Advanced Machine Learning Semester Exam "
   ]
  },
  {
   "cell_type": "markdown",
   "metadata": {},
   "source": [
    "<p>Section A</p>\n",
    "<p>NAML84112: ADVANCED MACHINE LEARNING</p>\n",
    "<p>Sol Plaatje University</p>\n",
    "<p>BSc. Hons. in Data Science</p>\n",
    "<p>Kyle Groenewald</p>\n",
    "<p>Student no.: 201710099</p>"
   ]
  },
  {
   "cell_type": "code",
   "execution_count": 1,
   "metadata": {},
   "outputs": [],
   "source": [
    "import numpy as np\n",
    "import matplotlib.pyplot as plt\n",
    "import seaborn as sns"
   ]
  },
  {
   "cell_type": "markdown",
   "metadata": {},
   "source": [
    "### Question 3"
   ]
  },
  {
   "cell_type": "code",
   "execution_count": 2,
   "metadata": {},
   "outputs": [],
   "source": [
    "size = 10\n",
    "x = np.linspace(-5, 5, size)"
   ]
  },
  {
   "cell_type": "code",
   "execution_count": null,
   "metadata": {},
   "outputs": [],
   "source": [
    "# kernels"
   ]
  },
  {
   "cell_type": "code",
   "execution_count": 3,
   "metadata": {},
   "outputs": [],
   "source": [
    "kernel_1 = lambda x_m, x_n: [np.exp((-abs(x_m-n)**2)/2) for n in x_n]"
   ]
  },
  {
   "cell_type": "code",
   "execution_count": 4,
   "metadata": {},
   "outputs": [],
   "source": [
    "kernel_2 = lambda x_m, x_n: [(10+np.dot(x_n.T, m))**2 for m in x_m]"
   ]
  },
  {
   "cell_type": "code",
   "execution_count": 5,
   "metadata": {},
   "outputs": [],
   "source": [
    "kernel_3 = lambda x_m, x_n: [np.exp(-abs(x_m-n)) for n in x_n]"
   ]
  },
  {
   "cell_type": "code",
   "execution_count": 6,
   "metadata": {},
   "outputs": [],
   "source": [
    "covariance_1 = kernel_1(x,x)\n",
    "covariance_2 = kernel_2(x,x)\n",
    "covariance_3 = kernel_3(x,x)"
   ]
  },
  {
   "cell_type": "code",
   "execution_count": 7,
   "metadata": {},
   "outputs": [
    {
     "data": {
      "text/plain": [
       "<AxesSubplot:>"
      ]
     },
     "execution_count": 7,
     "metadata": {},
     "output_type": "execute_result"
    },
    {
     "data": {
      "image/png": "[encoded data removed]",
      "text/plain": [
       "<Figure size 432x288 with 2 Axes>"
      ]
     },
     "metadata": {
      "needs_background": "light"
     },
     "output_type": "display_data"
    }
   ],
   "source": [
    "sns.heatmap(covariance_1)"
   ]
  },
  {
   "cell_type": "code",
   "execution_count": 8,
   "metadata": {},
   "outputs": [
    {
     "data": {
      "text/plain": [
       "<AxesSubplot:>"
      ]
     },
     "execution_count": 8,
     "metadata": {},
     "output_type": "execute_result"
    },
    {
     "data": {
      "image/png": "[encoded data removed]",
      "text/plain": [
       "<Figure size 432x288 with 2 Axes>"
      ]
     },
     "metadata": {
      "needs_background": "light"
     },
     "output_type": "display_data"
    }
   ],
   "source": [
    "sns.heatmap(covariance_2)"
   ]
  },
  {
   "cell_type": "code",
   "execution_count": 9,
   "metadata": {},
   "outputs": [
    {
     "data": {
      "text/plain": [
       "<AxesSubplot:>"
      ]
     },
     "execution_count": 9,
     "metadata": {},
     "output_type": "execute_result"
    },
    {
     "data": {
      "image/png": "[encoded data removed]",
      "text/plain": [
       "<Figure size 432x288 with 2 Axes>"
      ]
     },
     "metadata": {
      "needs_background": "light"
     },
     "output_type": "display_data"
    }
   ],
   "source": [
    "sns.heatmap(covariance_3)"
   ]
  },
  {
   "cell_type": "markdown",
   "metadata": {},
   "source": [
    "Kernel 1 and 3 both calculate the distance differences between points but in different ways. The 1st kernel gets the exponentiated squared distance between points, similar to the Gaussian distribution, and the 3rd kernel gets the exponentiated absolute distance. Their covariance matrix correlations are similar in shape, symmetric over the values (since there are 10 values), but the 1st kernel has stronger correlations for points that are closer (~ = 0.6) than that of kernel 3 (~= 0.3). Kernel 2's covariance is symmetric about opposite points, with high correlations at the extremities. This kernel assumes that the first and last points are significant."
   ]
  },
  {
   "cell_type": "markdown",
   "metadata": {},
   "source": [
    "### Question 3.3"
   ]
  },
  {
   "cell_type": "code",
   "execution_count": 10,
   "metadata": {},
   "outputs": [],
   "source": [
    "kernel = lambda x_m, x_n: [np.exp((-abs(x_m-n)**2)/2) for n in x_n] #kernel definition"
   ]
  },
  {
   "cell_type": "code",
   "execution_count": 23,
   "metadata": {},
   "outputs": [],
   "source": [
    "size_ = 100\n",
    "x = np.linspace(-5, 5, size_)\n",
    "xl = np.array([-4,-2,4]) #initializing"
   ]
  },
  {
   "cell_type": "code",
   "execution_count": 61,
   "metadata": {},
   "outputs": [],
   "source": [
    "y = np.random.normal(0, 1, size_)"
   ]
  },
  {
   "cell_type": "code",
   "execution_count": 43,
   "metadata": {},
   "outputs": [],
   "source": [
    "x_joint = np.r_[x, xl] #creating the joint distribution"
   ]
  },
  {
   "cell_type": "code",
   "execution_count": 90,
   "metadata": {},
   "outputs": [],
   "source": [
    "K = kernel(x, x) # kernel calculations"
   ]
  },
  {
   "cell_type": "code",
   "execution_count": 91,
   "metadata": {},
   "outputs": [],
   "source": [
    "K = np.array(K)\n",
    "K.shape"
   ]
  },
  {
   "cell_type": "code",
   "execution_count": 92,
   "metadata": {},
   "outputs": [],
   "source": [
    "Kx = kernel(x_joint, x)"
   ]
  },
  {
   "cell_type": "code",
   "execution_count": 101,
   "metadata": {},
   "outputs": [
    {
     "data": {
      "text/plain": [
       "(100, 103)"
      ]
     },
     "execution_count": 101,
     "metadata": {},
     "output_type": "execute_result"
    }
   ],
   "source": [
    "Kx = np.array(Kx)\n",
    "Kx.shape"
   ]
  },
  {
   "cell_type": "code",
   "execution_count": 94,
   "metadata": {},
   "outputs": [],
   "source": [
    "Kxx = kernel(x_joint, x_joint)"
   ]
  },
  {
   "cell_type": "code",
   "execution_count": 95,
   "metadata": {},
   "outputs": [],
   "source": [
    "Kxx = np.array(Kxx)\n",
    "Kxx.shape"
   ]
  },
  {
   "cell_type": "code",
   "execution_count": 102,
   "metadata": {},
   "outputs": [],
   "source": [
    "mu_posterior = Kx.T@np.linalg.inv(K)@y # mean_post (because of indexing choices, transposes are inverted i.e a.T = a, b = b.T)"
   ]
  },
  {
   "cell_type": "code",
   "execution_count": 103,
   "metadata": {},
   "outputs": [],
   "source": [
    "K_posterior = Kxx - Kx.T@np.linalg.inv(K)@Kx # K_post"
   ]
  },
  {
   "cell_type": "code",
   "execution_count": null,
   "metadata": {},
   "outputs": [],
   "source": [
    "# plotting"
   ]
  },
  {
   "cell_type": "code",
   "execution_count": 104,
   "metadata": {},
   "outputs": [],
   "source": [
    "y1 = np.array([-0.5, 0.5, 0.0])"
   ]
  },
  {
   "cell_type": "code",
   "execution_count": 108,
   "metadata": {},
   "outputs": [],
   "source": [
    "x_prior = np.linspace(-4, 4, 103)"
   ]
  },
  {
   "cell_type": "code",
   "execution_count": 118,
   "metadata": {},
   "outputs": [
    {
     "data": {
      "image/png": "[encoded data removed]",
      "text/plain": [
       "<Figure size 432x288 with 1 Axes>"
      ]
     },
     "metadata": {
      "needs_background": "light"
     },
     "output_type": "display_data"
    }
   ],
   "source": [
    "plt.scatter(x1,y1)\n",
    "\n",
    "plt.plot(x_prior, mu_posterior, label = 'Mean', color = 'red')\n",
    "plt.show()"
   ]
  },
  {
   "cell_type": "code",
   "execution_count": 112,
   "metadata": {},
   "outputs": [
    {
     "name": "stderr",
     "output_type": "stream",
     "text": [
      "<ipython-input-112-52d60b5da8e6>:1: RuntimeWarning: invalid value encountered in sqrt\n",
      "  std_dev = np.sqrt(np.diag(K_posterior))\n"
     ]
    }
   ],
   "source": [
    "std_dev = np.sqrt(np.diag(K_posterior))"
   ]
  },
  {
   "cell_type": "code",
   "execution_count": 117,
   "metadata": {},
   "outputs": [
    {
     "data": {
      "image/png": "[encoded data removed]",
      "text/plain": [
       "<Figure size 432x288 with 1 Axes>"
      ]
     },
     "metadata": {
      "needs_background": "light"
     },
     "output_type": "display_data"
    }
   ],
   "source": [
    "# plotting uncertainty\n",
    "plt.scatter(x1,y1)\n",
    "plt.plot(x_prior, mu_posterior, label = 'Mean', color = 'red')\n",
    "plt.fill_between(x_prior, mu_posterior+3*std_dev,\n",
    "         mu_posterior-3*std_dev, alpha = 0.2, color = 'grey', label = 'Uncertainty, 3 st devs.')\n",
    "plt.fill_between(x_prior, mu_posterior+2*std_dev,\n",
    "         mu_posterior-2*std_dev, alpha = 0.3, color = 'blue', label = 'Uncertainty, 2 st devs.')\n",
    "plt.fill_between(x_prior, mu_posterior+1*std_dev,\n",
    "         mu_posterior-1*std_dev, alpha = 0.5, color = 'yellow', label = 'Uncertainty, 1 st dev.')\n",
    "plt.legend()\n",
    "plt.show()"
   ]
  },
  {
   "cell_type": "markdown",
   "metadata": {},
   "source": [
    "### Question 1"
   ]
  },
  {
   "cell_type": "markdown",
   "metadata": {},
   "source": [
    "1.1 The relationship between x and y for a probabilistic linear regression model can be defined as follows. mu = a + βx, where a and β are parameter vectors used to determine mu. Both a and β are stochastic variables used to determine mu, and y is a function of mu and e, where e is the error term, which is also stochastic."
   ]
  },
  {
   "cell_type": "markdown",
   "metadata": {},
   "source": [
    "1.2 y ~ N(mu, e) or a Normal distribution"
   ]
  },
  {
   "cell_type": "markdown",
   "metadata": {},
   "source": [
    "### Question 2"
   ]
  },
  {
   "cell_type": "markdown",
   "metadata": {},
   "source": [
    "A square root function seems to fit the plot. The values for y is not lower than 0. The shape is similar to a root function,\n",
    "with a curve shape nearly identical to one.\n",
    "\n",
    "f(x)= a√b(x−h) + k where a is not 0 and b > 0\n",
    "\n",
    "For a neural network, with weights w, the function is:\n",
    "\n",
    "y = w1 √w2(x−w3) + w4 where w1 is not 0 and w2 > 0"
   ]
  },
  {
   "cell_type": "markdown",
   "metadata": {},
   "source": [
    "### Question 4"
   ]
  },
  {
   "cell_type": "markdown",
   "metadata": {},
   "source": [
    "4.1 The weaknesses of using k-means is that the user has to specify k (the number of clusters) in the beginning and that\n",
    "k-means assumes that we deal with spherical clusters and that each cluster has roughly equal numbers of observations. \n",
    "This is not necessarily true, as shown in the figure."
   ]
  },
  {
   "cell_type": "markdown",
   "metadata": {},
   "source": [
    "4.2 It is a probabilistic method for obtaining a fuzzy classification of the observations. The probability of belonging to each cluster is calculated and a classification is usually achieved by assigning each observation to the most likely cluster. \n",
    "These probabilities can also be used to interpret suspected classifications. Gaussian Mixture Models can discover complex patterns and group them into cohesive, homogeneous components that are close representatives of real patterns within the data set and aren't bound to clusters."
   ]
  },
  {
   "cell_type": "code",
   "execution_count": null,
   "metadata": {},
   "outputs": [],
   "source": []
  }
 ],
 "metadata": {
  "kernelspec": {
   "display_name": "Python 3",
   "language": "python",
   "name": "python3"
  },
  "language_info": {
   "codemirror_mode": {
    "name": "ipython",
    "version": 3
   },
   "file_extension": ".py",
   "mimetype": "text/x-python",
   "name": "python",
   "nbconvert_exporter": "python",
   "pygments_lexer": "ipython3",
   "version": "3.8.5"
  }
 },
 "nbformat": 4,
 "nbformat_minor": 4
}
